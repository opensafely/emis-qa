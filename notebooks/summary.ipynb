{
 "cells": [
  {
   "cell_type": "markdown",
   "id": "offshore-promotion",
   "metadata": {},
   "source": [
    "# Summary Statistics\n",
    "\n",
    "This notebook displays summary statistics of patient records,\n",
    "comparing multiple snapshots extracted by the `cohortextractor` action.\n",
    "\n",
    "## Preliminaries"
   ]
  },
  {
   "cell_type": "code",
   "execution_count": null,
   "id": "intelligent-supervision",
   "metadata": {},
   "outputs": [],
   "source": [
    "from IPython.display import display, Markdown\n",
    "import itertools\n",
    "import matplotlib\n",
    "import pandas\n",
    "from pathlib import Path"
   ]
  },
  {
   "cell_type": "code",
   "execution_count": null,
   "id": "toxic-dealer",
   "metadata": {},
   "outputs": [],
   "source": [
    "%matplotlib inline\n",
    "matplotlib.style.use(\"seaborn\")"
   ]
  },
  {
   "cell_type": "code",
   "execution_count": null,
   "id": "swedish-lottery",
   "metadata": {},
   "outputs": [],
   "source": [
    "BASE_DIR = Path(\"../output\")"
   ]
  },
  {
   "cell_type": "code",
   "execution_count": null,
   "id": "ethical-canberra",
   "metadata": {},
   "outputs": [],
   "source": [
    "def read_feather(f_path):\n",
    "    return pandas.read_feather(f_path).assign(\n",
    "        f_name=f_path.name,  # We need the file name because we will concatenate the csv files\n",
    "    )"
   ]
  },
  {
   "cell_type": "code",
   "execution_count": null,
   "id": "searching-mongolia",
   "metadata": {},
   "outputs": [],
   "source": [
    "# Concatenate the feather files in `BASE_DIR`\n",
    "records = pandas.concat(read_feather(x) for x in BASE_DIR.iterdir() if x.name.endswith(\".feather\"))"
   ]
  },
  {
   "cell_type": "code",
   "execution_count": null,
   "id": "mental-damages",
   "metadata": {},
   "outputs": [],
   "source": [
    "# Unfortunately, `pandas.concat` converts categorical columns to string (object) columns,\n",
    "# if the set of categories are different. Consequently, we must cast the `f_name` column\n",
    "# to a categorical column here.\n",
    "records.f_name = records.f_name.astype(\"category\")"
   ]
  },
  {
   "cell_type": "code",
   "execution_count": null,
   "id": "according-payroll",
   "metadata": {},
   "outputs": [],
   "source": [
    "# Patient IDs should be unique within each file\n",
    "assert records.set_index([\"f_name\", \"patient_id\"]).index.is_unique"
   ]
  },
  {
   "cell_type": "markdown",
   "id": "accomplished-poker",
   "metadata": {},
   "source": [
    "Discretise patient ages into patient age groups of width `age_group_width`."
   ]
  },
  {
   "cell_type": "code",
   "execution_count": null,
   "id": "documented-hungary",
   "metadata": {},
   "outputs": [],
   "source": [
    "age_group_width = 10"
   ]
  },
  {
   "cell_type": "code",
   "execution_count": null,
   "id": "swedish-hungarian",
   "metadata": {},
   "outputs": [],
   "source": [
    "records[\"age_group\"] = pandas.cut(\n",
    "    records.age,\n",
    "    range(0, records.age.max() + age_group_width, age_group_width),\n",
    "    right=False,  # Don't include the right-edge, meaning [lower, upper) or lower <= x < upper\n",
    ")"
   ]
  },
  {
   "cell_type": "markdown",
   "id": "negative-concern",
   "metadata": {},
   "source": [
    "## Patients\n",
    "\n",
    "How many patients are in each file?\n",
    "\n",
    "---\n",
    "**Aside**: There are several ways to count groups in Pandas. For consistency, we will:\n",
    "\n",
    "* locate the columns of interest\n",
    "* group by these columns\n",
    "* count the number of rows\n",
    "\n",
    "For readability, we will also put each step on a separate line.\n",
    "\n",
    "---"
   ]
  },
  {
   "cell_type": "code",
   "execution_count": null,
   "id": "competent-editor",
   "metadata": {},
   "outputs": [],
   "source": [
    "(records\n",
    "    .loc[:, [\"f_name\", \"patient_id\"]]\n",
    "    .groupby(\"f_name\")\n",
    "    .count())"
   ]
  },
  {
   "cell_type": "markdown",
   "id": "spectacular-camcorder",
   "metadata": {},
   "source": [
    "How many patients are in each file, by sex?"
   ]
  },
  {
   "cell_type": "code",
   "execution_count": null,
   "id": "funny-logistics",
   "metadata": {},
   "outputs": [],
   "source": [
    "(records\n",
    "    .loc[:, [\"f_name\", \"sex\", \"patient_id\"]]\n",
    "    .groupby([\"f_name\", \"sex\"])\n",
    "    .count())"
   ]
  },
  {
   "cell_type": "markdown",
   "id": "polyphonic-looking",
   "metadata": {},
   "source": [
    "How many patients are in each file, by age group?"
   ]
  },
  {
   "cell_type": "code",
   "execution_count": null,
   "id": "difficult-opinion",
   "metadata": {},
   "outputs": [],
   "source": [
    "by_age_group = (records\n",
    "    .loc[:, [\"age_group\", \"f_name\", \"patient_id\"]]\n",
    "    .groupby([\"age_group\", \"f_name\"])\n",
    "    .count())"
   ]
  },
  {
   "cell_type": "code",
   "execution_count": null,
   "id": "enclosed-delta",
   "metadata": {},
   "outputs": [],
   "source": [
    "by_age_group.unstack()"
   ]
  },
  {
   "cell_type": "code",
   "execution_count": null,
   "id": "weekly-powell",
   "metadata": {},
   "outputs": [],
   "source": [
    "_ = (by_age_group\n",
    "    .unstack()\n",
    "    .plot.bar(subplots=True, figsize=(6, 6), legend=False))"
   ]
  },
  {
   "cell_type": "markdown",
   "id": "ranking-prince",
   "metadata": {},
   "source": [
    "How many patients in each file deregistered, by month?"
   ]
  },
  {
   "cell_type": "markdown",
   "id": "inside-suspect",
   "metadata": {},
   "source": [
    "For each combination of files, how many patients are in:\n",
    "\n",
    "* both files\n",
    "* the first file but not the second file\n",
    "* the second file but not the first file\n",
    "\n",
    "---\n",
    "**Aside**: We compare each combination of files to future-proof our notebook.\n",
    "Because order isn't significant, we use `itertools.combinations` rather than `itertools.permutations`.\n",
    "\n",
    "---"
   ]
  },
  {
   "cell_type": "code",
   "execution_count": null,
   "id": "educated-focus",
   "metadata": {},
   "outputs": [],
   "source": [
    "# Let's revisit sets.\n",
    "# https://docs.python.org/3.8/library/stdtypes.html#set\n",
    "set_1 = {1, 2, 3}\n",
    "set_2 = {3, 4, 5}\n",
    "assert set_1 & set_2 == {3}  # In set 1 and in set 2 (intersection)\n",
    "assert set_1 - set_2 == {1, 2}  # In set 1, but not in set 2 (difference)\n",
    "assert set_2 - set_1 == {4, 5}  # In set 2, but not in set 1 (difference)\n",
    "del set_1\n",
    "del set_2"
   ]
  },
  {
   "cell_type": "code",
   "execution_count": null,
   "id": "prerequisite-might",
   "metadata": {},
   "outputs": [],
   "source": [
    "for f_name_0, f_name_1 in itertools.combinations(records.f_name.cat.categories, 2):\n",
    "    patient_id_0 = set(records.patient_id[records.f_name == f_name_0])\n",
    "    patient_id_1 = set(records.patient_id[records.f_name == f_name_1])\n",
    "\n",
    "    display(Markdown(f\"{len(patient_id_0 & patient_id_1)} patients are in *{f_name_0}* and in *{f_name_1}*.\"))\n",
    "    display(Markdown(f\"{len(patient_id_0 - patient_id_1)} patients are in *{f_name_0}* but not in *{f_name_1}*.\"))\n",
    "    display(Markdown(f\"{len(patient_id_1 - patient_id_0)} patients are in *{f_name_1}* but not in *{f_name_0}*.\"))"
   ]
  },
  {
   "cell_type": "markdown",
   "id": "caroline-drawing",
   "metadata": {},
   "source": [
    "## Practices\n",
    "\n",
    "How many practices are in each file?"
   ]
  },
  {
   "cell_type": "code",
   "execution_count": null,
   "id": "single-heather",
   "metadata": {},
   "outputs": [],
   "source": [
    "(records\n",
    "    .loc[:, [\"f_name\", \"practice_pseudo_id\"]]\n",
    "    .drop_duplicates()  # Remember that rows are patient records.\n",
    "    .groupby(\"f_name\")\n",
    "    .count())"
   ]
  }
 ],
 "metadata": {
  "kernelspec": {
   "display_name": "Python 3",
   "language": "python",
   "name": "python3"
  },
  "language_info": {
   "codemirror_mode": {
    "name": "ipython",
    "version": 3
   },
   "file_extension": ".py",
   "mimetype": "text/x-python",
   "name": "python",
   "nbconvert_exporter": "python",
   "pygments_lexer": "ipython3",
   "version": "3.8.8"
  }
 },
 "nbformat": 4,
 "nbformat_minor": 5
}
