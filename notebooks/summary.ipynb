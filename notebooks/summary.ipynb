{
 "cells": [
  {
   "cell_type": "markdown",
   "id": "express-chicken",
   "metadata": {},
   "source": [
    "# Summary Statistics\n",
    "\n",
    "This notebook displays summary statistics of patient records,\n",
    "comparing multiple snapshots extracted by the `cohortextractor` action.\n",
    "\n",
    "## Preliminaries"
   ]
  },
  {
   "cell_type": "code",
   "execution_count": 1,
   "id": "increasing-anthropology",
   "metadata": {},
   "outputs": [],
   "source": [
    "from IPython.display import display, Markdown\n",
    "import itertools\n",
    "import matplotlib\n",
    "import pandas\n",
    "from pathlib import Path"
   ]
  },
  {
   "cell_type": "code",
   "execution_count": 2,
   "id": "electoral-julian",
   "metadata": {},
   "outputs": [],
   "source": [
    "%matplotlib inline\n",
    "matplotlib.style.use(\"seaborn\")"
   ]
  },
  {
   "cell_type": "code",
   "execution_count": 3,
   "id": "selected-ceiling",
   "metadata": {},
   "outputs": [],
   "source": [
    "BASE_DIR = Path(\"../output\")"
   ]
  },
  {
   "cell_type": "code",
   "execution_count": 4,
   "id": "published-equality",
   "metadata": {},
   "outputs": [],
   "source": [
    "def read_feather(f_path):\n",
    "    return pandas.read_feather(f_path).assign(\n",
    "        f_name=f_path.name,  # We need the file name because we will concatenate the csv files\n",
    "    )"
   ]
  },
  {
   "cell_type": "code",
   "execution_count": 5,
   "id": "downtown-accounting",
   "metadata": {},
   "outputs": [],
   "source": [
    "# Concatenate the feather files in `BASE_DIR`\n",
    "records = pandas.concat(read_feather(x) for x in BASE_DIR.iterdir() if x.name.endswith(\".feather\"))"
   ]
  },
  {
   "cell_type": "code",
   "execution_count": 6,
   "id": "periodic-abortion",
   "metadata": {},
   "outputs": [],
   "source": [
    "# Unfortunately, `pandas.concat` converts categorical columns to string (object) columns,\n",
    "# if the set of categories are different. Consequently, we must cast the `f_name` column\n",
    "# to a categorical column here.\n",
    "records.f_name = records.f_name.astype(\"category\")"
   ]
  },
  {
   "cell_type": "code",
   "execution_count": 7,
   "id": "latter-effort",
   "metadata": {},
   "outputs": [],
   "source": [
    "# Patient IDs should be unique within each file\n",
    "assert records.set_index([\"f_name\", \"patient_id\"]).index.is_unique"
   ]
  },
  {
   "cell_type": "markdown",
   "id": "neutral-boundary",
   "metadata": {},
   "source": [
    "Discretise patient ages into patient age groups of width `age_group_width`."
   ]
  },
  {
   "cell_type": "code",
   "execution_count": 8,
   "id": "square-wellington",
   "metadata": {},
   "outputs": [],
   "source": [
    "age_group_width = 10"
   ]
  },
  {
   "cell_type": "code",
   "execution_count": 9,
   "id": "junior-experience",
   "metadata": {},
   "outputs": [],
   "source": [
    "records[\"age_group\"] = pandas.cut(\n",
    "    records.age,\n",
    "    range(0, records.age.max() + age_group_width, age_group_width),\n",
    "    right=False,  # Don't include the right-edge, meaning [lower, upper) or lower <= x < upper\n",
    ")"
   ]
  },
  {
   "cell_type": "markdown",
   "id": "allied-usage",
   "metadata": {},
   "source": [
    "## Patients\n",
    "\n",
    "How many patients are in each file?\n",
    "\n",
    "---\n",
    "**Aside**: There are several ways to count groups in Pandas. For consistency, we will:\n",
    "\n",
    "* locate the columns of interest\n",
    "* group by these columns\n",
    "* count the number of rows\n",
    "\n",
    "For readability, we will also put each step on a separate line.\n",
    "\n",
    "---"
   ]
  },
  {
   "cell_type": "code",
   "execution_count": 10,
   "id": "stopped-midwest",
   "metadata": {},
   "outputs": [
    {
     "data": {
      "text/html": [
       "<div>\n",
       "<style scoped>\n",
       "    .dataframe tbody tr th:only-of-type {\n",
       "        vertical-align: middle;\n",
       "    }\n",
       "\n",
       "    .dataframe tbody tr th {\n",
       "        vertical-align: top;\n",
       "    }\n",
       "\n",
       "    .dataframe thead th {\n",
       "        text-align: right;\n",
       "    }\n",
       "</style>\n",
       "<table border=\"1\" class=\"dataframe\">\n",
       "  <thead>\n",
       "    <tr style=\"text-align: right;\">\n",
       "      <th></th>\n",
       "      <th>patient_id</th>\n",
       "    </tr>\n",
       "    <tr>\n",
       "      <th>f_name</th>\n",
       "      <th></th>\n",
       "    </tr>\n",
       "  </thead>\n",
       "  <tbody>\n",
       "    <tr>\n",
       "      <th>input-last.feather</th>\n",
       "      <td>1000</td>\n",
       "    </tr>\n",
       "    <tr>\n",
       "      <th>input.feather</th>\n",
       "      <td>1000</td>\n",
       "    </tr>\n",
       "  </tbody>\n",
       "</table>\n",
       "</div>"
      ],
      "text/plain": [
       "                    patient_id\n",
       "f_name                        \n",
       "input-last.feather        1000\n",
       "input.feather             1000"
      ]
     },
     "execution_count": 10,
     "metadata": {},
     "output_type": "execute_result"
    }
   ],
   "source": [
    "(records\n",
    "    .loc[:, [\"f_name\", \"patient_id\"]]\n",
    "    .groupby(\"f_name\")\n",
    "    .count())"
   ]
  },
  {
   "cell_type": "markdown",
   "id": "superior-switch",
   "metadata": {},
   "source": [
    "How many patients are in each file, by sex?"
   ]
  },
  {
   "cell_type": "code",
   "execution_count": 11,
   "id": "demanding-cartoon",
   "metadata": {},
   "outputs": [
    {
     "data": {
      "text/html": [
       "<div>\n",
       "<style scoped>\n",
       "    .dataframe tbody tr th:only-of-type {\n",
       "        vertical-align: middle;\n",
       "    }\n",
       "\n",
       "    .dataframe tbody tr th {\n",
       "        vertical-align: top;\n",
       "    }\n",
       "\n",
       "    .dataframe thead th {\n",
       "        text-align: right;\n",
       "    }\n",
       "</style>\n",
       "<table border=\"1\" class=\"dataframe\">\n",
       "  <thead>\n",
       "    <tr style=\"text-align: right;\">\n",
       "      <th></th>\n",
       "      <th></th>\n",
       "      <th>patient_id</th>\n",
       "    </tr>\n",
       "    <tr>\n",
       "      <th>f_name</th>\n",
       "      <th>sex</th>\n",
       "      <th></th>\n",
       "    </tr>\n",
       "  </thead>\n",
       "  <tbody>\n",
       "    <tr>\n",
       "      <th rowspan=\"2\" valign=\"top\">input-last.feather</th>\n",
       "      <th>F</th>\n",
       "      <td>495</td>\n",
       "    </tr>\n",
       "    <tr>\n",
       "      <th>M</th>\n",
       "      <td>505</td>\n",
       "    </tr>\n",
       "    <tr>\n",
       "      <th rowspan=\"2\" valign=\"top\">input.feather</th>\n",
       "      <th>F</th>\n",
       "      <td>495</td>\n",
       "    </tr>\n",
       "    <tr>\n",
       "      <th>M</th>\n",
       "      <td>505</td>\n",
       "    </tr>\n",
       "  </tbody>\n",
       "</table>\n",
       "</div>"
      ],
      "text/plain": [
       "                        patient_id\n",
       "f_name             sex            \n",
       "input-last.feather F           495\n",
       "                   M           505\n",
       "input.feather      F           495\n",
       "                   M           505"
      ]
     },
     "execution_count": 11,
     "metadata": {},
     "output_type": "execute_result"
    }
   ],
   "source": [
    "(records\n",
    "    .loc[:, [\"f_name\", \"sex\", \"patient_id\"]]\n",
    "    .groupby([\"f_name\", \"sex\"])\n",
    "    .count())"
   ]
  },
  {
   "cell_type": "markdown",
   "id": "vertical-royal",
   "metadata": {},
   "source": [
    "How many patients are in each file, by age group?"
   ]
  },
  {
   "cell_type": "code",
   "execution_count": 12,
   "id": "fifteen-kitty",
   "metadata": {},
   "outputs": [],
   "source": [
    "by_age_group = (records\n",
    "    .loc[:, [\"age_group\", \"f_name\", \"patient_id\"]]\n",
    "    .groupby([\"age_group\", \"f_name\"])\n",
    "    .count())"
   ]
  },
  {
   "cell_type": "code",
   "execution_count": 13,
   "id": "known-crisis",
   "metadata": {},
   "outputs": [
    {
     "data": {
      "text/html": [
       "<div>\n",
       "<style scoped>\n",
       "    .dataframe tbody tr th:only-of-type {\n",
       "        vertical-align: middle;\n",
       "    }\n",
       "\n",
       "    .dataframe tbody tr th {\n",
       "        vertical-align: top;\n",
       "    }\n",
       "\n",
       "    .dataframe thead tr th {\n",
       "        text-align: left;\n",
       "    }\n",
       "\n",
       "    .dataframe thead tr:last-of-type th {\n",
       "        text-align: right;\n",
       "    }\n",
       "</style>\n",
       "<table border=\"1\" class=\"dataframe\">\n",
       "  <thead>\n",
       "    <tr>\n",
       "      <th></th>\n",
       "      <th colspan=\"2\" halign=\"left\">patient_id</th>\n",
       "    </tr>\n",
       "    <tr>\n",
       "      <th>f_name</th>\n",
       "      <th>input-last.feather</th>\n",
       "      <th>input.feather</th>\n",
       "    </tr>\n",
       "    <tr>\n",
       "      <th>age_group</th>\n",
       "      <th></th>\n",
       "      <th></th>\n",
       "    </tr>\n",
       "  </thead>\n",
       "  <tbody>\n",
       "    <tr>\n",
       "      <th>[0, 10)</th>\n",
       "      <td>109</td>\n",
       "      <td>109</td>\n",
       "    </tr>\n",
       "    <tr>\n",
       "      <th>[10, 20)</th>\n",
       "      <td>135</td>\n",
       "      <td>135</td>\n",
       "    </tr>\n",
       "    <tr>\n",
       "      <th>[20, 30)</th>\n",
       "      <td>134</td>\n",
       "      <td>134</td>\n",
       "    </tr>\n",
       "    <tr>\n",
       "      <th>[30, 40)</th>\n",
       "      <td>117</td>\n",
       "      <td>117</td>\n",
       "    </tr>\n",
       "    <tr>\n",
       "      <th>[40, 50)</th>\n",
       "      <td>110</td>\n",
       "      <td>110</td>\n",
       "    </tr>\n",
       "    <tr>\n",
       "      <th>[50, 60)</th>\n",
       "      <td>154</td>\n",
       "      <td>154</td>\n",
       "    </tr>\n",
       "    <tr>\n",
       "      <th>[60, 70)</th>\n",
       "      <td>96</td>\n",
       "      <td>96</td>\n",
       "    </tr>\n",
       "    <tr>\n",
       "      <th>[70, 80)</th>\n",
       "      <td>92</td>\n",
       "      <td>92</td>\n",
       "    </tr>\n",
       "    <tr>\n",
       "      <th>[80, 90)</th>\n",
       "      <td>42</td>\n",
       "      <td>42</td>\n",
       "    </tr>\n",
       "    <tr>\n",
       "      <th>[90, 100)</th>\n",
       "      <td>11</td>\n",
       "      <td>11</td>\n",
       "    </tr>\n",
       "  </tbody>\n",
       "</table>\n",
       "</div>"
      ],
      "text/plain": [
       "                  patient_id              \n",
       "f_name    input-last.feather input.feather\n",
       "age_group                                 \n",
       "[0, 10)                  109           109\n",
       "[10, 20)                 135           135\n",
       "[20, 30)                 134           134\n",
       "[30, 40)                 117           117\n",
       "[40, 50)                 110           110\n",
       "[50, 60)                 154           154\n",
       "[60, 70)                  96            96\n",
       "[70, 80)                  92            92\n",
       "[80, 90)                  42            42\n",
       "[90, 100)                 11            11"
      ]
     },
     "execution_count": 13,
     "metadata": {},
     "output_type": "execute_result"
    }
   ],
   "source": [
    "by_age_group.unstack()"
   ]
  },
  {
   "cell_type": "code",
   "execution_count": 14,
   "id": "prospective-toddler",
   "metadata": {},
   "outputs": [
    {
     "data": {
      "image/png": "[encoded data removed]",
      "text/plain": [
       "<Figure size 432x432 with 2 Axes>"
      ]
     },
     "metadata": {},
     "output_type": "display_data"
    }
   ],
   "source": [
    "_ = (by_age_group\n",
    "    .unstack()\n",
    "    .plot.bar(subplots=True, figsize=(6, 6), legend=False))"
   ]
  },
  {
   "cell_type": "markdown",
   "id": "unlike-opposition",
   "metadata": {},
   "source": [
    "How many patients in each file deregistered, by month?"
   ]
  },
  {
   "cell_type": "markdown",
   "id": "collectible-lobby",
   "metadata": {},
   "source": [
    "For each combination of files, how many patients are in:\n",
    "\n",
    "* both files\n",
    "* the first file but not the second file\n",
    "* the second file but not the first file\n",
    "\n",
    "---\n",
    "**Aside**: We compare each combination of files to future-proof our notebook.\n",
    "Because order isn't significant, we use `itertools.combinations` rather than `itertools.permutations`.\n",
    "\n",
    "---"
   ]
  },
  {
   "cell_type": "code",
   "execution_count": 15,
   "id": "specific-organizer",
   "metadata": {},
   "outputs": [],
   "source": [
    "# Let's revisit sets.\n",
    "# https://docs.python.org/3.8/library/stdtypes.html#set\n",
    "set_1 = {1, 2, 3}\n",
    "set_2 = {3, 4, 5}\n",
    "assert set_1 & set_2 == {3}  # In set 1 and in set 2 (intersection)\n",
    "assert set_1 - set_2 == {1, 2}  # In set 1, but not in set 2 (difference)\n",
    "assert set_2 - set_1 == {4, 5}  # In set 2, but not in set 1 (difference)\n",
    "del set_1\n",
    "del set_2"
   ]
  },
  {
   "cell_type": "code",
   "execution_count": 16,
   "id": "reflected-update",
   "metadata": {},
   "outputs": [
    {
     "data": {
      "text/markdown": [
       "1000 patients are in *input-last.feather* and in *input.feather*."
      ],
      "text/plain": [
       "<IPython.core.display.Markdown object>"
      ]
     },
     "metadata": {},
     "output_type": "display_data"
    },
    {
     "data": {
      "text/markdown": [
       "0 patients are in *input-last.feather* but not in *input.feather*."
      ],
      "text/plain": [
       "<IPython.core.display.Markdown object>"
      ]
     },
     "metadata": {},
     "output_type": "display_data"
    },
    {
     "data": {
      "text/markdown": [
       "0 patients are in *input.feather* but not in *input-last.feather*."
      ],
      "text/plain": [
       "<IPython.core.display.Markdown object>"
      ]
     },
     "metadata": {},
     "output_type": "display_data"
    }
   ],
   "source": [
    "for f_name_0, f_name_1 in itertools.combinations(records.f_name.cat.categories, 2):\n",
    "    patient_id_0 = set(records.patient_id[records.f_name == f_name_0])\n",
    "    patient_id_1 = set(records.patient_id[records.f_name == f_name_1])\n",
    "\n",
    "    display(Markdown(f\"{len(patient_id_0 & patient_id_1)} patients are in *{f_name_0}* and in *{f_name_1}*.\"))\n",
    "    display(Markdown(f\"{len(patient_id_0 - patient_id_1)} patients are in *{f_name_0}* but not in *{f_name_1}*.\"))\n",
    "    display(Markdown(f\"{len(patient_id_1 - patient_id_0)} patients are in *{f_name_1}* but not in *{f_name_0}*.\"))"
   ]
  },
  {
   "cell_type": "markdown",
   "id": "extended-logging",
   "metadata": {},
   "source": [
    "## Practices\n",
    "\n",
    "How many practices are in each file?"
   ]
  },
  {
   "cell_type": "code",
   "execution_count": 17,
   "id": "mental-glasgow",
   "metadata": {},
   "outputs": [
    {
     "data": {
      "text/html": [
       "<div>\n",
       "<style scoped>\n",
       "    .dataframe tbody tr th:only-of-type {\n",
       "        vertical-align: middle;\n",
       "    }\n",
       "\n",
       "    .dataframe tbody tr th {\n",
       "        vertical-align: top;\n",
       "    }\n",
       "\n",
       "    .dataframe thead th {\n",
       "        text-align: right;\n",
       "    }\n",
       "</style>\n",
       "<table border=\"1\" class=\"dataframe\">\n",
       "  <thead>\n",
       "    <tr style=\"text-align: right;\">\n",
       "      <th></th>\n",
       "      <th>practice_pseudo_id</th>\n",
       "    </tr>\n",
       "    <tr>\n",
       "      <th>f_name</th>\n",
       "      <th></th>\n",
       "    </tr>\n",
       "  </thead>\n",
       "  <tbody>\n",
       "    <tr>\n",
       "      <th>input-last.feather</th>\n",
       "      <td>376</td>\n",
       "    </tr>\n",
       "    <tr>\n",
       "      <th>input.feather</th>\n",
       "      <td>376</td>\n",
       "    </tr>\n",
       "  </tbody>\n",
       "</table>\n",
       "</div>"
      ],
      "text/plain": [
       "                    practice_pseudo_id\n",
       "f_name                                \n",
       "input-last.feather                 376\n",
       "input.feather                      376"
      ]
     },
     "execution_count": 17,
     "metadata": {},
     "output_type": "execute_result"
    }
   ],
   "source": [
    "(records\n",
    "    .loc[:, [\"f_name\", \"practice_pseudo_id\"]]\n",
    "    .drop_duplicates()  # Remember that rows are patient records.\n",
    "    .groupby(\"f_name\")\n",
    "    .count())"
   ]
  }
 ],
 "metadata": {
  "kernelspec": {
   "display_name": "Python 3",
   "language": "python",
   "name": "python3"
  },
  "language_info": {
   "codemirror_mode": {
    "name": "ipython",
    "version": 3
   },
   "file_extension": ".py",
   "mimetype": "text/x-python",
   "name": "python",
   "nbconvert_exporter": "python",
   "pygments_lexer": "ipython3",
   "version": "3.8.8"
  }
 },
 "nbformat": 4,
 "nbformat_minor": 5
}
