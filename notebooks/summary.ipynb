{
 "cells": [
  {
   "cell_type": "markdown",
   "id": "dedicated-conclusion",
   "metadata": {},
   "source": [
    "# Summary Statistics\n",
    "\n",
    "This notebook displays summary statistics of patient records,\n",
    "comparing multiple snapshots extracted by the `cohortextractor` action.\n",
    "\n",
    "## Preliminaries\n",
    "\n",
    "### Setup"
   ]
  },
  {
   "cell_type": "code",
   "execution_count": null,
   "id": "permanent-casino",
   "metadata": {},
   "outputs": [],
   "source": [
    "from IPython.display import display, Markdown\n",
    "import itertools\n",
    "import matplotlib\n",
    "import pandas"
   ]
  },
  {
   "cell_type": "code",
   "execution_count": null,
   "id": "functioning-section",
   "metadata": {},
   "outputs": [],
   "source": [
    "%matplotlib inline\n",
    "matplotlib.style.use(\"seaborn\")"
   ]
  },
  {
   "cell_type": "markdown",
   "id": "patent-district",
   "metadata": {},
   "source": [
    "### Read data"
   ]
  },
  {
   "cell_type": "code",
   "execution_count": null,
   "id": "peaceful-clearing",
   "metadata": {},
   "outputs": [],
   "source": [
    "records = pandas.read_feather(\"../output/output.feather\")"
   ]
  },
  {
   "cell_type": "markdown",
   "id": "threatened-death",
   "metadata": {},
   "source": [
    "### Redaction"
   ]
  },
  {
   "cell_type": "code",
   "execution_count": null,
   "id": "false-apache",
   "metadata": {},
   "outputs": [],
   "source": [
    "SMALL_NUMBER = 5"
   ]
  },
  {
   "cell_type": "code",
   "execution_count": null,
   "id": "considerable-lawsuit",
   "metadata": {},
   "outputs": [],
   "source": [
    "REDACTION_MSG = \"[REDACTED]\""
   ]
  },
  {
   "cell_type": "code",
   "execution_count": null,
   "id": "dress-strategy",
   "metadata": {},
   "outputs": [],
   "source": [
    "def must_redact(df):\n",
    "    \"\"\"Returns `True` when the given data frame must be redacted.\"\"\"\n",
    "    return df.le(SMALL_NUMBER).any()[0]"
   ]
  },
  {
   "cell_type": "code",
   "execution_count": null,
   "id": "persistent-stretch",
   "metadata": {},
   "outputs": [],
   "source": [
    "def redact_or_display(df):\n",
    "    \"\"\"Either redact or display the given data frame.\"\"\"\n",
    "    if must_redact(df):\n",
    "        print(REDACTION_MSG)\n",
    "    else:\n",
    "        display(df)"
   ]
  },
  {
   "cell_type": "markdown",
   "id": "naval-battlefield",
   "metadata": {},
   "source": [
    "Check that data are redacted when we expect them to be redacted."
   ]
  },
  {
   "cell_type": "code",
   "execution_count": null,
   "id": "smoking-olive",
   "metadata": {},
   "outputs": [],
   "source": [
    "redact_or_display(pandas.DataFrame({\"redact_me\": [SMALL_NUMBER]}))"
   ]
  },
  {
   "cell_type": "markdown",
   "id": "innocent-angola",
   "metadata": {},
   "source": [
    "Check that data are displayed when we expect them to be displayed."
   ]
  },
  {
   "cell_type": "code",
   "execution_count": null,
   "id": "juvenile-belize",
   "metadata": {},
   "outputs": [],
   "source": [
    "redact_or_display(pandas.DataFrame({\"display_me\": [SMALL_NUMBER + 1]}))"
   ]
  },
  {
   "cell_type": "markdown",
   "id": "developing-arizona",
   "metadata": {},
   "source": [
    "Check that if one datum is redacted, then all data are redacted."
   ]
  },
  {
   "cell_type": "code",
   "execution_count": null,
   "id": "embedded-riding",
   "metadata": {},
   "outputs": [],
   "source": [
    "redact_or_display(pandas.DataFrame({\"redact_me\": [SMALL_NUMBER], \"display_me\": [SMALL_NUMBER + 1]}))"
   ]
  },
  {
   "cell_type": "markdown",
   "id": "dimensional-haven",
   "metadata": {},
   "source": [
    "## Patients\n",
    "\n",
    "How many patients are in each file?\n",
    "\n",
    "---\n",
    "**Aside**: There are several ways to count groups in Pandas. For consistency, we will:\n",
    "\n",
    "* locate the columns of interest\n",
    "* group by these columns\n",
    "* count the number of rows\n",
    "\n",
    "For readability, we will also put each step on a separate line.\n",
    "\n",
    "---"
   ]
  },
  {
   "cell_type": "code",
   "execution_count": null,
   "id": "alternative-alcohol",
   "metadata": {},
   "outputs": [],
   "source": [
    "redact_or_display(records\n",
    "    .loc[:, [\"f_name\", \"patient_id\"]]\n",
    "    .groupby(\"f_name\")\n",
    "    .count())"
   ]
  },
  {
   "cell_type": "markdown",
   "id": "mediterranean-midwest",
   "metadata": {},
   "source": [
    "How many patients are in each file, by sex?"
   ]
  },
  {
   "cell_type": "code",
   "execution_count": null,
   "id": "active-import",
   "metadata": {},
   "outputs": [],
   "source": [
    "redact_or_display(records\n",
    "    .loc[:, [\"f_name\", \"sex\", \"patient_id\"]]\n",
    "    .groupby([\"f_name\", \"sex\"])\n",
    "    .count())"
   ]
  },
  {
   "cell_type": "markdown",
   "id": "agricultural-allocation",
   "metadata": {},
   "source": [
    "How many patients are in each file, by age group?"
   ]
  },
  {
   "cell_type": "code",
   "execution_count": null,
   "id": "unauthorized-berry",
   "metadata": {},
   "outputs": [],
   "source": [
    "by_age_group = (records\n",
    "    .loc[:, [\"age_group\", \"f_name\", \"patient_id\"]]\n",
    "    .groupby([\"age_group\", \"f_name\"])\n",
    "    .count())"
   ]
  },
  {
   "cell_type": "code",
   "execution_count": null,
   "id": "ecological-union",
   "metadata": {},
   "outputs": [],
   "source": [
    "redact_or_display(by_age_group.unstack())"
   ]
  },
  {
   "cell_type": "code",
   "execution_count": null,
   "id": "progressive-brave",
   "metadata": {},
   "outputs": [],
   "source": [
    "if must_redact(by_age_group):\n",
    "    print(REDACTION_MSG)\n",
    "else:\n",
    "    _ = (by_age_group\n",
    "        .unstack()\n",
    "        .plot.bar(subplots=True, figsize=(6, 6), legend=False))"
   ]
  },
  {
   "cell_type": "markdown",
   "id": "sorted-harris",
   "metadata": {},
   "source": [
    "For each combination of files, how many patients are in:\n",
    "\n",
    "* both files\n",
    "* the first file but not the second file\n",
    "* the second file but not the first file\n",
    "\n",
    "---\n",
    "**Aside**: We compare each combination of files to future-proof our notebook.\n",
    "Because order isn't significant, we use `itertools.combinations` rather than `itertools.permutations`.\n",
    "\n",
    "---"
   ]
  },
  {
   "cell_type": "code",
   "execution_count": null,
   "id": "discrete-casino",
   "metadata": {},
   "outputs": [],
   "source": [
    "# Let's revisit sets.\n",
    "# https://docs.python.org/3.8/library/stdtypes.html#set\n",
    "set_1 = {1, 2, 3}\n",
    "set_2 = {3, 4, 5}\n",
    "assert set_1 & set_2 == {3}  # In set 1 and in set 2 (intersection)\n",
    "assert set_1 - set_2 == {1, 2}  # In set 1, but not in set 2 (difference)\n",
    "assert set_2 - set_1 == {4, 5}  # In set 2, but not in set 1 (difference)\n",
    "del set_1\n",
    "del set_2"
   ]
  },
  {
   "cell_type": "code",
   "execution_count": null,
   "id": "labeled-tobago",
   "metadata": {},
   "outputs": [],
   "source": [
    "for f_name_0, f_name_1 in itertools.combinations(records.f_name.cat.categories, 2):\n",
    "    patient_id_0 = set(records.patient_id[records.f_name == f_name_0])\n",
    "    patient_id_1 = set(records.patient_id[records.f_name == f_name_1])\n",
    "\n",
    "    in_0_and_in_1 = len(patient_id_0 & patient_id_1)\n",
    "    in_0_not_in_1 = len(patient_id_0 - patient_id_1)\n",
    "    in_1_not_in_0 = len(patient_id_1 - patient_id_0)\n",
    "    \n",
    "    if min(in_0_and_in_1, in_0_not_in_1, in_1_not_in_0) <= SMALL_NUMBER:\n",
    "        print(REDACTION_MSG)\n",
    "    else:\n",
    "        display(Markdown(f\"{in_0_and_in_1} patients are in *{f_name_0}* and in *{f_name_1}*.\"))\n",
    "        display(Markdown(f\"{in_0_not_in_1} patients are in *{f_name_0}* but not in *{f_name_1}*.\"))\n",
    "        display(Markdown(f\"{in_1_not_in_0} patients are in *{f_name_1}* but not in *{f_name_0}*.\"))"
   ]
  },
  {
   "cell_type": "markdown",
   "id": "under-pencil",
   "metadata": {},
   "source": [
    "## Practices\n",
    "\n",
    "How many practices are in each file?"
   ]
  },
  {
   "cell_type": "code",
   "execution_count": null,
   "id": "local-wireless",
   "metadata": {},
   "outputs": [],
   "source": [
    "redact_or_display(records\n",
    "    .loc[:, [\"f_name\", \"practice_pseudo_id\"]]\n",
    "    .drop_duplicates()  # Remember that rows are patient records.\n",
    "    .groupby(\"f_name\")\n",
    "    .count())"
   ]
  }
 ],
 "metadata": {
  "kernelspec": {
   "display_name": "Python 3",
   "language": "python",
   "name": "python3"
  },
  "language_info": {
   "codemirror_mode": {
    "name": "ipython",
    "version": 3
   },
   "file_extension": ".py",
   "mimetype": "text/x-python",
   "name": "python",
   "nbconvert_exporter": "python",
   "pygments_lexer": "ipython3",
   "version": "3.8.8"
  }
 },
 "nbformat": 4,
 "nbformat_minor": 5
}
