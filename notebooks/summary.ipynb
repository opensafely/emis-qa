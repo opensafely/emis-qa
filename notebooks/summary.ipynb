{
 "cells": [
  {
   "cell_type": "markdown",
   "id": "dedicated-conclusion",
   "metadata": {},
   "source": [
    "# Summary Statistics\n",
    "\n",
    "This notebook displays summary statistics of patient records,\n",
    "comparing multiple snapshots extracted by the `cohortextractor` action.\n",
    "\n",
    "## Preliminaries\n",
    "\n",
    "### Setup"
   ]
  },
  {
   "cell_type": "code",
   "execution_count": null,
   "id": "permanent-casino",
   "metadata": {},
   "outputs": [],
   "source": [
    "from IPython.display import display, Markdown\n",
    "import itertools\n",
    "import matplotlib\n",
    "import pandas\n",
    "import utils"
   ]
  },
  {
   "cell_type": "code",
   "execution_count": null,
   "id": "functioning-section",
   "metadata": {},
   "outputs": [],
   "source": [
    "%matplotlib inline\n",
    "matplotlib.style.use(\"seaborn\")"
   ]
  },
  {
   "cell_type": "markdown",
   "id": "patent-district",
   "metadata": {},
   "source": [
    "### Read data"
   ]
  },
  {
   "cell_type": "code",
   "execution_count": null,
   "id": "peaceful-clearing",
   "metadata": {},
   "outputs": [],
   "source": [
    "records = pandas.read_feather(\"../output/output.feather\")"
   ]
  },
  {
   "cell_type": "markdown",
   "id": "dimensional-haven",
   "metadata": {},
   "source": [
    "## Patients\n",
    "\n",
    "How many patients are in each file?\n",
    "\n",
    "---\n",
    "**Aside**: There are several ways to count groups in Pandas. For consistency, we will:\n",
    "\n",
    "* locate the columns of interest\n",
    "* group by these columns\n",
    "* count the number of rows\n",
    "\n",
    "For readability, we will also put each step on a separate line.\n",
    "\n",
    "---"
   ]
  },
  {
   "cell_type": "code",
   "execution_count": null,
   "id": "alternative-alcohol",
   "metadata": {},
   "outputs": [],
   "source": [
    "utils.redact_or_display(records\n",
    "    .loc[:, [\"f_name\", \"patient_id\"]]\n",
    "    .groupby(\"f_name\")\n",
    "    .count())"
   ]
  },
  {
   "cell_type": "markdown",
   "id": "mediterranean-midwest",
   "metadata": {},
   "source": [
    "How many patients are in each file, by sex?"
   ]
  },
  {
   "cell_type": "code",
   "execution_count": null,
   "id": "active-import",
   "metadata": {},
   "outputs": [],
   "source": [
    "utils.redact_or_display(records\n",
    "    .loc[:, [\"f_name\", \"sex\", \"patient_id\"]]\n",
    "    .groupby([\"f_name\", \"sex\"])\n",
    "    .count())"
   ]
  },
  {
   "cell_type": "markdown",
   "id": "agricultural-allocation",
   "metadata": {},
   "source": [
    "How many patients are in each file, by age group?"
   ]
  },
  {
   "cell_type": "code",
   "execution_count": null,
   "id": "unauthorized-berry",
   "metadata": {},
   "outputs": [],
   "source": [
    "by_age_group = (records\n",
    "    .loc[:, [\"age_group\", \"f_name\", \"patient_id\"]]\n",
    "    .groupby([\"age_group\", \"f_name\"])\n",
    "    .count())"
   ]
  },
  {
   "cell_type": "code",
   "execution_count": null,
   "id": "ecological-union",
   "metadata": {},
   "outputs": [],
   "source": [
    "utils.redact_or_display(by_age_group.unstack())"
   ]
  },
  {
   "cell_type": "code",
   "execution_count": null,
   "id": "progressive-brave",
   "metadata": {},
   "outputs": [],
   "source": [
    "if utils.must_redact(by_age_group):\n",
    "    print(utils.REDACTION_MSG)\n",
    "else:\n",
    "    _ = (by_age_group\n",
    "        .unstack()\n",
    "        .plot.bar(subplots=True, figsize=(6, 6), legend=False))"
   ]
  },
  {
   "cell_type": "markdown",
   "id": "sorted-harris",
   "metadata": {},
   "source": [
    "For each combination of files, how many patients are in:\n",
    "\n",
    "* both files\n",
    "* the first file but not the second file\n",
    "* the second file but not the first file\n",
    "\n",
    "---\n",
    "**Aside**: We compare each combination of files to future-proof our notebook.\n",
    "Because order isn't significant, we use `itertools.combinations` rather than `itertools.permutations`.\n",
    "\n",
    "---"
   ]
  },
  {
   "cell_type": "code",
   "execution_count": null,
   "id": "discrete-casino",
   "metadata": {},
   "outputs": [],
   "source": [
    "# Let's revisit sets.\n",
    "# https://docs.python.org/3.8/library/stdtypes.html#set\n",
    "set_1 = {1, 2, 3}\n",
    "set_2 = {3, 4, 5}\n",
    "assert set_1 & set_2 == {3}  # In set 1 and in set 2 (intersection)\n",
    "assert set_1 - set_2 == {1, 2}  # In set 1, but not in set 2 (difference)\n",
    "assert set_2 - set_1 == {4, 5}  # In set 2, but not in set 1 (difference)\n",
    "del set_1\n",
    "del set_2"
   ]
  },
  {
   "cell_type": "code",
   "execution_count": null,
   "id": "labeled-tobago",
   "metadata": {},
   "outputs": [],
   "source": [
    "for f_name_0, f_name_1 in itertools.combinations(records.f_name.cat.categories, 2):\n",
    "    patient_id_0 = set(records.patient_id[records.f_name == f_name_0])\n",
    "    patient_id_1 = set(records.patient_id[records.f_name == f_name_1])\n",
    "\n",
    "    in_0_and_in_1 = len(patient_id_0 & patient_id_1)\n",
    "    in_0_not_in_1 = len(patient_id_0 - patient_id_1)\n",
    "    in_1_not_in_0 = len(patient_id_1 - patient_id_0)\n",
    "    \n",
    "    if min(in_0_and_in_1, in_0_not_in_1, in_1_not_in_0) <= utils.SMALL_NUMBER:\n",
    "        print(utils.REDACTION_MSG)\n",
    "    else:\n",
    "        display(Markdown(f\"{in_0_and_in_1} patients are in *{f_name_0}* and in *{f_name_1}*.\"))\n",
    "        display(Markdown(f\"{in_0_not_in_1} patients are in *{f_name_0}* but not in *{f_name_1}*.\"))\n",
    "        display(Markdown(f\"{in_1_not_in_0} patients are in *{f_name_1}* but not in *{f_name_0}*.\"))"
   ]
  },
  {
   "cell_type": "markdown",
   "id": "under-pencil",
   "metadata": {},
   "source": [
    "## Practices\n",
    "\n",
    "How many practices are in each file?"
   ]
  },
  {
   "cell_type": "code",
   "execution_count": null,
   "id": "local-wireless",
   "metadata": {},
   "outputs": [],
   "source": [
    "utils.redact_or_display(records\n",
    "    .loc[:, [\"f_name\", \"practice_pseudo_id\"]]\n",
    "    .drop_duplicates()  # Remember that rows are patient records.\n",
    "    .groupby(\"f_name\")\n",
    "    .count())"
   ]
  }
 ],
 "metadata": {
  "kernelspec": {
   "display_name": "Python 3",
   "language": "python",
   "name": "python3"
  },
  "language_info": {
   "codemirror_mode": {
    "name": "ipython",
    "version": 3
   },
   "file_extension": ".py",
   "mimetype": "text/x-python",
   "name": "python",
   "nbconvert_exporter": "python",
   "pygments_lexer": "ipython3",
   "version": "3.8.8"
  }
 },
 "nbformat": 4,
 "nbformat_minor": 5
}
